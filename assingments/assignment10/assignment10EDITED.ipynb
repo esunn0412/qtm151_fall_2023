{
 "cells": [
  {
   "attachments": {},
   "cell_type": "markdown",
   "metadata": {},
   "source": [
    "# Assignment 10"
   ]
  },
  {
   "attachments": {},
   "cell_type": "markdown",
   "metadata": {},
   "source": [
    "## Try to submit as an HTML file"
   ]
  },
  {
   "attachments": {},
   "cell_type": "markdown",
   "metadata": {},
   "source": [
    "<font size = \"5\">\n",
    "Print your Emory ID below"
   ]
  },
  {
   "cell_type": "code",
   "execution_count": 1,
   "metadata": {},
   "outputs": [
    {
     "name": "stdout",
     "output_type": "stream",
     "text": [
      "tkim462\n"
     ]
    }
   ],
   "source": [
    "print(\"tkim462\")"
   ]
  },
  {
   "attachments": {},
   "cell_type": "markdown",
   "metadata": {},
   "source": [
    "<font size = \"5\">\n",
    "\n",
    "Import the \"pandas\" and \"matplotlib.pyplot\" libraries."
   ]
  },
  {
   "cell_type": "code",
   "execution_count": 3,
   "metadata": {},
   "outputs": [],
   "source": [
    "# Write your answer here:\n",
    "import pandas as pd \n",
    "import matplotlib.pyplot as plt \n",
    "import matplotlib.dates as mdates\n",
    "from datetime import date, time, datetime"
   ]
  },
  {
   "attachments": {},
   "cell_type": "markdown",
   "metadata": {},
   "source": [
    "<font size = \"5\">\n",
    "\n",
    "In this assignment, we will work with a World Bank <br>\n",
    "dataset on the proportion of urban population across <br>\n",
    "countries, from 2016-2020.\n",
    "\n",
    "- This is an example of a \"panel\"/\"longitudinal\" dataset <br>\n",
    " which contains information about the same unit (country) <br>\n",
    " over time.\n",
    " - This is in \"long\" format (see Lecture 21)"
   ]
  },
  {
   "attachments": {},
   "cell_type": "markdown",
   "metadata": {},
   "source": [
    "<font size = \"5\">\n",
    "\n",
    "(a) Import data and parse dates \n",
    "\n",
    "<font size = \"3\">\n",
    "\n",
    "\n",
    "- Import \"data_raw/wdi_long.csv\"\n",
    "- Create a new column called \"date\" which uses ```pd.to_datetime(...,format = ...)``` <br>\n",
    "to convert year to a date format\n",
    "- To get full points use wild cards to establish the format.\n",
    "\n",
    "Hint: See Lecture 20 for information about wild cards"
   ]
  },
  {
   "cell_type": "code",
   "execution_count": 9,
   "metadata": {},
   "outputs": [
    {
     "data": {
      "text/plain": [
       "0      2016-01-01\n",
       "1      2016-01-01\n",
       "2      2016-01-01\n",
       "3      2016-01-01\n",
       "4      2016-01-01\n",
       "          ...    \n",
       "1080   2020-01-01\n",
       "1081   2020-01-01\n",
       "1082   2020-01-01\n",
       "1083   2020-01-01\n",
       "1084   2020-01-01\n",
       "Name: date, Length: 1085, dtype: datetime64[ns]"
      ]
     },
     "execution_count": 9,
     "metadata": {},
     "output_type": "execute_result"
    }
   ],
   "source": [
    "# Write your own code\n",
    "wdi_long = pd.read_csv(\"data_raw/wdi_long.csv\")\n",
    "wdi_long[\"date\"] = pd.to_datetime(wdi_long[\"year\"], format=\"%Y\")\n",
    "wdi_long[\"date\"]"
   ]
  },
  {
   "attachments": {},
   "cell_type": "markdown",
   "metadata": {},
   "source": [
    "<font size = \"5\">\n",
    "\n",
    "(b)  Sort by two columns\n",
    "\n",
    "<font size = \"3\">\n",
    "\n",
    "- Create a new dataset \"data_sorted\" that sorts by \"country_name\" and \"date\"\n",
    "\n",
    "HINT: Include a list of column names as the main sorting argument."
   ]
  },
  {
   "cell_type": "code",
   "execution_count": 13,
   "metadata": {},
   "outputs": [
    {
     "data": {
      "text/html": [
       "<div>\n",
       "<style scoped>\n",
       "    .dataframe tbody tr th:only-of-type {\n",
       "        vertical-align: middle;\n",
       "    }\n",
       "\n",
       "    .dataframe tbody tr th {\n",
       "        vertical-align: top;\n",
       "    }\n",
       "\n",
       "    .dataframe thead th {\n",
       "        text-align: right;\n",
       "    }\n",
       "</style>\n",
       "<table border=\"1\" class=\"dataframe\">\n",
       "  <thead>\n",
       "    <tr style=\"text-align: right;\">\n",
       "      <th></th>\n",
       "      <th>year</th>\n",
       "      <th>year_code</th>\n",
       "      <th>country_name</th>\n",
       "      <th>country_code</th>\n",
       "      <th>prop_urban</th>\n",
       "      <th>date</th>\n",
       "    </tr>\n",
       "  </thead>\n",
       "  <tbody>\n",
       "    <tr>\n",
       "      <th>0</th>\n",
       "      <td>2016</td>\n",
       "      <td>YR2016</td>\n",
       "      <td>Afghanistan</td>\n",
       "      <td>AFG</td>\n",
       "      <td>25.020</td>\n",
       "      <td>2016-01-01</td>\n",
       "    </tr>\n",
       "    <tr>\n",
       "      <th>217</th>\n",
       "      <td>2017</td>\n",
       "      <td>YR2017</td>\n",
       "      <td>Afghanistan</td>\n",
       "      <td>AFG</td>\n",
       "      <td>25.250</td>\n",
       "      <td>2017-01-01</td>\n",
       "    </tr>\n",
       "    <tr>\n",
       "      <th>434</th>\n",
       "      <td>2018</td>\n",
       "      <td>YR2018</td>\n",
       "      <td>Afghanistan</td>\n",
       "      <td>AFG</td>\n",
       "      <td>25.495</td>\n",
       "      <td>2018-01-01</td>\n",
       "    </tr>\n",
       "    <tr>\n",
       "      <th>651</th>\n",
       "      <td>2019</td>\n",
       "      <td>YR2019</td>\n",
       "      <td>Afghanistan</td>\n",
       "      <td>AFG</td>\n",
       "      <td>25.754</td>\n",
       "      <td>2019-01-01</td>\n",
       "    </tr>\n",
       "    <tr>\n",
       "      <th>868</th>\n",
       "      <td>2020</td>\n",
       "      <td>YR2020</td>\n",
       "      <td>Afghanistan</td>\n",
       "      <td>AFG</td>\n",
       "      <td>26.026</td>\n",
       "      <td>2020-01-01</td>\n",
       "    </tr>\n",
       "    <tr>\n",
       "      <th>...</th>\n",
       "      <td>...</td>\n",
       "      <td>...</td>\n",
       "      <td>...</td>\n",
       "      <td>...</td>\n",
       "      <td>...</td>\n",
       "      <td>...</td>\n",
       "    </tr>\n",
       "    <tr>\n",
       "      <th>216</th>\n",
       "      <td>2016</td>\n",
       "      <td>YR2016</td>\n",
       "      <td>Zimbabwe</td>\n",
       "      <td>ZWE</td>\n",
       "      <td>32.296</td>\n",
       "      <td>2016-01-01</td>\n",
       "    </tr>\n",
       "    <tr>\n",
       "      <th>433</th>\n",
       "      <td>2017</td>\n",
       "      <td>YR2017</td>\n",
       "      <td>Zimbabwe</td>\n",
       "      <td>ZWE</td>\n",
       "      <td>32.237</td>\n",
       "      <td>2017-01-01</td>\n",
       "    </tr>\n",
       "    <tr>\n",
       "      <th>650</th>\n",
       "      <td>2018</td>\n",
       "      <td>YR2018</td>\n",
       "      <td>Zimbabwe</td>\n",
       "      <td>ZWE</td>\n",
       "      <td>32.209</td>\n",
       "      <td>2018-01-01</td>\n",
       "    </tr>\n",
       "    <tr>\n",
       "      <th>867</th>\n",
       "      <td>2019</td>\n",
       "      <td>YR2019</td>\n",
       "      <td>Zimbabwe</td>\n",
       "      <td>ZWE</td>\n",
       "      <td>32.210</td>\n",
       "      <td>2019-01-01</td>\n",
       "    </tr>\n",
       "    <tr>\n",
       "      <th>1084</th>\n",
       "      <td>2020</td>\n",
       "      <td>YR2020</td>\n",
       "      <td>Zimbabwe</td>\n",
       "      <td>ZWE</td>\n",
       "      <td>32.242</td>\n",
       "      <td>2020-01-01</td>\n",
       "    </tr>\n",
       "  </tbody>\n",
       "</table>\n",
       "<p>1085 rows × 6 columns</p>\n",
       "</div>"
      ],
      "text/plain": [
       "      year year_code country_name country_code  prop_urban       date\n",
       "0     2016    YR2016  Afghanistan          AFG      25.020 2016-01-01\n",
       "217   2017    YR2017  Afghanistan          AFG      25.250 2017-01-01\n",
       "434   2018    YR2018  Afghanistan          AFG      25.495 2018-01-01\n",
       "651   2019    YR2019  Afghanistan          AFG      25.754 2019-01-01\n",
       "868   2020    YR2020  Afghanistan          AFG      26.026 2020-01-01\n",
       "...    ...       ...          ...          ...         ...        ...\n",
       "216   2016    YR2016     Zimbabwe          ZWE      32.296 2016-01-01\n",
       "433   2017    YR2017     Zimbabwe          ZWE      32.237 2017-01-01\n",
       "650   2018    YR2018     Zimbabwe          ZWE      32.209 2018-01-01\n",
       "867   2019    YR2019     Zimbabwe          ZWE      32.210 2019-01-01\n",
       "1084  2020    YR2020     Zimbabwe          ZWE      32.242 2020-01-01\n",
       "\n",
       "[1085 rows x 6 columns]"
      ]
     },
     "execution_count": 13,
     "metadata": {},
     "output_type": "execute_result"
    }
   ],
   "source": [
    "# Write your own code\n",
    "data_sorted = wdi_long.sort_values([\"country_name\", \"date\"])\n",
    "data_sorted"
   ]
  },
  {
   "attachments": {},
   "cell_type": "markdown",
   "metadata": {},
   "source": [
    "<font size = \"5\">\n",
    "\n",
    "(c) Compute within-unit time differences\n",
    "\n",
    "<font size = \"3\">\n",
    "\n",
    "**Example**\n",
    "- Each country has data for multiple dates\n",
    "- The following code calculates the time-difference between each date <br>\n",
    "```\n",
    "(data_sorted.groupby(\"country_name\")[\"date\"]\n",
    "            .diff())\n",
    "```\n",
    "\n",
    "**Instructions**:\n",
    "- Now, instead of [\"date\"] use ```[\"prop_urban\"]```\n",
    "- Store the result in a new column called \"diff_prop_urban\"\n",
    "- This adds a new column with the country-level changes in <br>\n",
    "the urban propulaton each year\n",
    "\n",
    "HINT: Check Lecture 21 for using ```.diff()``` <br>\n",
    "Note: Using \".groupby()\" is important so that each country is analyzed <br>\n",
    "separately."
   ]
  },
  {
   "cell_type": "code",
   "execution_count": 19,
   "metadata": {},
   "outputs": [
    {
     "data": {
      "text/plain": [
       "0         NaN\n",
       "217     0.230\n",
       "434     0.245\n",
       "651     0.259\n",
       "868     0.272\n",
       "        ...  \n",
       "216       NaN\n",
       "433    -0.059\n",
       "650    -0.028\n",
       "867     0.001\n",
       "1084    0.032\n",
       "Name: diff_prop_urban, Length: 1085, dtype: float64"
      ]
     },
     "execution_count": 19,
     "metadata": {},
     "output_type": "execute_result"
    }
   ],
   "source": [
    "data_sorted[\"diff_prop_urban\"] = (data_sorted.groupby(\"country_name\")[\"prop_urban\"]\n",
    "                                            .diff())\n",
    "\n",
    "data_sorted[\"diff_prop_urban\"]"
   ]
  },
  {
   "attachments": {},
   "cell_type": "markdown",
   "metadata": {},
   "source": [
    "<font size = \"5\">\n",
    "\n",
    "(d) Plot time series for single country\n",
    "\n",
    "<font size = \"3\">\n",
    "\n",
    "- Use \".query()\" to subset \"data_sorted\" for rows that satisfy\n",
    "\n",
    "$\\quad$  ```  'country_name == \"United States\"' ```\n",
    " \n",
    "- Produce a line plot with the evolution of \"prop_urban\" over time in the <br>\n",
    "United States\n",
    "\n"
   ]
  },
  {
   "cell_type": "code",
   "execution_count": 29,
   "metadata": {},
   "outputs": [
    {
     "name": "stdout",
     "output_type": "stream",
     "text": [
      "      year year_code   country_name country_code  prop_urban       date  \\\n",
      "206   2016    YR2016  United States          USA      81.862 2016-01-01   \n",
      "423   2017    YR2017  United States          USA      82.058 2017-01-01   \n",
      "640   2018    YR2018  United States          USA      82.256 2018-01-01   \n",
      "857   2019    YR2019  United States          USA      82.459 2019-01-01   \n",
      "1074  2020    YR2020  United States          USA      82.664 2020-01-01   \n",
      "\n",
      "      diff_prop_urban  \n",
      "206               NaN  \n",
      "423             0.196  \n",
      "640             0.198  \n",
      "857             0.203  \n",
      "1074            0.205  \n"
     ]
    },
    {
     "data": {
      "text/plain": [
       "Text(0.5, 1.0, 'Urbanization Over Time in the United States')"
      ]
     },
     "execution_count": 29,
     "metadata": {},
     "output_type": "execute_result"
    },
    {
     "data": {
      "image/png": "[encoded data removed]",
      "text/plain": [
       "<Figure size 640x480 with 1 Axes>"
      ]
     },
     "metadata": {},
     "output_type": "display_data"
    }
   ],
   "source": [
    "us_data =data_sorted.query('country_name == \"United States\"')\n",
    "print(us_data)\n",
    "plt.plot(\"date\", \"prop_urban\", data = us_data)\n",
    "plt.xlabel(\"Time\")\n",
    "plt.ylabel(\"prop_urban\")\n",
    "plt.title('Urbanization Over Time in the United States')"
   ]
  },
  {
   "attachments": {},
   "cell_type": "markdown",
   "metadata": {},
   "source": [
    "<font size = \"5\">\n",
    "\n",
    "(e) Convert to wide format\n",
    "\n",
    "<font size = \"3\">\n",
    "\n",
    "- Convert \"data_sorted\" from long to wide, using the following arguments: <br>\n",
    "```\n",
    "   index = 'country_name'\n",
    "   columns = 'year'\n",
    "   values =  'prop_urban'\n",
    "```\n",
    "- Display the dataset to check that it is in wide format\n",
    "\n",
    "HINT: See Lecture 21 for details\n",
    "\n"
   ]
  },
  {
   "cell_type": "code",
   "execution_count": 33,
   "metadata": {},
   "outputs": [
    {
     "data": {
      "text/html": [
       "<div>\n",
       "<style scoped>\n",
       "    .dataframe tbody tr th:only-of-type {\n",
       "        vertical-align: middle;\n",
       "    }\n",
       "\n",
       "    .dataframe tbody tr th {\n",
       "        vertical-align: top;\n",
       "    }\n",
       "\n",
       "    .dataframe thead th {\n",
       "        text-align: right;\n",
       "    }\n",
       "</style>\n",
       "<table border=\"1\" class=\"dataframe\">\n",
       "  <thead>\n",
       "    <tr style=\"text-align: right;\">\n",
       "      <th>year</th>\n",
       "      <th>2016</th>\n",
       "      <th>2017</th>\n",
       "      <th>2018</th>\n",
       "      <th>2019</th>\n",
       "      <th>2020</th>\n",
       "    </tr>\n",
       "    <tr>\n",
       "      <th>country_name</th>\n",
       "      <th></th>\n",
       "      <th></th>\n",
       "      <th></th>\n",
       "      <th></th>\n",
       "      <th></th>\n",
       "    </tr>\n",
       "  </thead>\n",
       "  <tbody>\n",
       "    <tr>\n",
       "      <th>Afghanistan</th>\n",
       "      <td>25.020</td>\n",
       "      <td>25.250</td>\n",
       "      <td>25.495</td>\n",
       "      <td>25.754</td>\n",
       "      <td>26.026</td>\n",
       "    </tr>\n",
       "    <tr>\n",
       "      <th>Albania</th>\n",
       "      <td>58.421</td>\n",
       "      <td>59.383</td>\n",
       "      <td>60.319</td>\n",
       "      <td>61.229</td>\n",
       "      <td>62.112</td>\n",
       "    </tr>\n",
       "    <tr>\n",
       "      <th>Algeria</th>\n",
       "      <td>71.459</td>\n",
       "      <td>72.052</td>\n",
       "      <td>72.629</td>\n",
       "      <td>73.189</td>\n",
       "      <td>73.733</td>\n",
       "    </tr>\n",
       "    <tr>\n",
       "      <th>American Samoa</th>\n",
       "      <td>87.198</td>\n",
       "      <td>87.170</td>\n",
       "      <td>87.153</td>\n",
       "      <td>87.147</td>\n",
       "      <td>87.153</td>\n",
       "    </tr>\n",
       "    <tr>\n",
       "      <th>Andorra</th>\n",
       "      <td>88.248</td>\n",
       "      <td>88.150</td>\n",
       "      <td>88.062</td>\n",
       "      <td>87.984</td>\n",
       "      <td>87.916</td>\n",
       "    </tr>\n",
       "    <tr>\n",
       "      <th>...</th>\n",
       "      <td>...</td>\n",
       "      <td>...</td>\n",
       "      <td>...</td>\n",
       "      <td>...</td>\n",
       "      <td>...</td>\n",
       "    </tr>\n",
       "    <tr>\n",
       "      <th>Virgin Islands (U.S.)</th>\n",
       "      <td>95.480</td>\n",
       "      <td>95.603</td>\n",
       "      <td>95.721</td>\n",
       "      <td>95.832</td>\n",
       "      <td>95.939</td>\n",
       "    </tr>\n",
       "    <tr>\n",
       "      <th>West Bank and Gaza</th>\n",
       "      <td>75.628</td>\n",
       "      <td>75.894</td>\n",
       "      <td>76.164</td>\n",
       "      <td>76.440</td>\n",
       "      <td>76.719</td>\n",
       "    </tr>\n",
       "    <tr>\n",
       "      <th>Yemen, Rep.</th>\n",
       "      <td>35.394</td>\n",
       "      <td>36.016</td>\n",
       "      <td>36.642</td>\n",
       "      <td>37.273</td>\n",
       "      <td>37.908</td>\n",
       "    </tr>\n",
       "    <tr>\n",
       "      <th>Zambia</th>\n",
       "      <td>42.438</td>\n",
       "      <td>42.976</td>\n",
       "      <td>43.521</td>\n",
       "      <td>44.072</td>\n",
       "      <td>44.629</td>\n",
       "    </tr>\n",
       "    <tr>\n",
       "      <th>Zimbabwe</th>\n",
       "      <td>32.296</td>\n",
       "      <td>32.237</td>\n",
       "      <td>32.209</td>\n",
       "      <td>32.210</td>\n",
       "      <td>32.242</td>\n",
       "    </tr>\n",
       "  </tbody>\n",
       "</table>\n",
       "<p>217 rows × 5 columns</p>\n",
       "</div>"
      ],
      "text/plain": [
       "year                     2016    2017    2018    2019    2020\n",
       "country_name                                                 \n",
       "Afghanistan            25.020  25.250  25.495  25.754  26.026\n",
       "Albania                58.421  59.383  60.319  61.229  62.112\n",
       "Algeria                71.459  72.052  72.629  73.189  73.733\n",
       "American Samoa         87.198  87.170  87.153  87.147  87.153\n",
       "Andorra                88.248  88.150  88.062  87.984  87.916\n",
       "...                       ...     ...     ...     ...     ...\n",
       "Virgin Islands (U.S.)  95.480  95.603  95.721  95.832  95.939\n",
       "West Bank and Gaza     75.628  75.894  76.164  76.440  76.719\n",
       "Yemen, Rep.            35.394  36.016  36.642  37.273  37.908\n",
       "Zambia                 42.438  42.976  43.521  44.072  44.629\n",
       "Zimbabwe               32.296  32.237  32.209  32.210  32.242\n",
       "\n",
       "[217 rows x 5 columns]"
      ]
     },
     "execution_count": 33,
     "metadata": {},
     "output_type": "execute_result"
    }
   ],
   "source": [
    "data_sorted_wide = (pd.pivot(data_sorted,\n",
    "                           index = 'country_name',\n",
    "                           columns = 'year',\n",
    "                           values =  'prop_urban'))\n",
    "\n",
    "data_sorted_wide "
   ]
  }
 ],
 "metadata": {
  "kernelspec": {
   "display_name": "base",
   "language": "python",
   "name": "python3"
  },
  "language_info": {
   "codemirror_mode": {
    "name": "ipython",
    "version": 3
   },
   "file_extension": ".py",
   "mimetype": "text/x-python",
   "name": "python",
   "nbconvert_exporter": "python",
   "pygments_lexer": "ipython3",
   "version": "3.11.4"
  },
  "orig_nbformat": 4,
  "vscode": {
   "interpreter": {
    "hash": "45fc1f684f6f416f40889115beff3ddf69879b64cf4bfee48cb72a61e9d15d1a"
   }
  }
 },
 "nbformat": 4,
 "nbformat_minor": 2
}
