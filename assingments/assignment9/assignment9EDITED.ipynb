{
 "cells": [
  {
   "attachments": {},
   "cell_type": "markdown",
   "metadata": {},
   "source": [
    "# Assignment 9"
   ]
  },
  {
   "attachments": {},
   "cell_type": "markdown",
   "metadata": {},
   "source": [
    "## Try to submit as an HTML file"
   ]
  },
  {
   "attachments": {},
   "cell_type": "markdown",
   "metadata": {},
   "source": [
    "<font size = \"5\">\n",
    "Print your Emory ID below"
   ]
  },
  {
   "cell_type": "code",
   "execution_count": 13,
   "metadata": {},
   "outputs": [
    {
     "name": "stdout",
     "output_type": "stream",
     "text": [
      "tkim462\n"
     ]
    }
   ],
   "source": [
    "# Write your answer here:\n",
    "print(\"tkim462\")"
   ]
  },
  {
   "attachments": {},
   "cell_type": "markdown",
   "metadata": {},
   "source": [
    "<font size = \"5\">\n",
    "\n",
    "Import the \"pandas\", \"sqlalchemy\" and \"URL\" libraries <br>\n",
    "(See Lecture 19)"
   ]
  },
  {
   "cell_type": "code",
   "execution_count": 14,
   "metadata": {},
   "outputs": [],
   "source": [
    "# Write your answer here:\n",
    "import pandas as pd \n",
    "from sqlalchemy import create_engine\n",
    "from   sqlalchemy.engine import URL\n",
    "from   sqlalchemy import text\n",
    "\n"
   ]
  },
  {
   "attachments": {},
   "cell_type": "markdown",
   "metadata": {},
   "source": [
    "<font size = \"5\">\n",
    "\n",
    "Establish a connection to the SQL server and database ```formula1``` <br>\n",
    "from Python as in Lecture 18 using <br>\n",
    "```URL()``` and ```create_engine()```"
   ]
  },
  {
   "cell_type": "code",
   "execution_count": 15,
   "metadata": {},
   "outputs": [],
   "source": [
    "# Write your own code\n",
    "url_server = URL.create(\n",
    "    \"postgresql\",\n",
    "    host = 'localhost',\n",
    "    database = 'formula1',\n",
    "    username = 'postgres',\n",
    "    port = 5432,\n",
    "    password  = '12345')\n",
    "\n",
    "connection = create_engine(url_server)\n"
   ]
  },
  {
   "attachments": {},
   "cell_type": "markdown",
   "metadata": {},
   "source": [
    "<font size = \"5\">\n",
    "\n",
    "In this homework, you will repeat the exercises in <br>\n",
    "Assignment 8, this time accessing SQL indirectly <br>\n",
    "from Python\n",
    "\n",
    "<font size = \"3\">\n",
    "\n",
    "- For (a)-(e) read the section <br>\n",
    "on \"Escape Characters\" carefully and how to write <br>\n",
    "strings in multiple lines\n",
    "- Remember that there is a special syntax for <br>\n",
    "column names that have capital letters"
   ]
  },
  {
   "attachments": {},
   "cell_type": "markdown",
   "metadata": {},
   "source": [
    "\n",
    "<font size = \"5\">\n",
    "\n",
    "(a) Import \"lap_times.csv\" and \"drivers.csv\"  \n",
    "\n",
    "<font size = \"3\">\n",
    "\n",
    "- Import the data using ```pd.read_csv()```\n",
    "- Upload to the server using  ```.to_sql()```\n",
    "- Upload the CSV files to the server, even if you already have the tables"
   ]
  },
  {
   "cell_type": "code",
   "execution_count": 16,
   "metadata": {},
   "outputs": [
    {
     "data": {
      "text/plain": [
       "857"
      ]
     },
     "execution_count": 16,
     "metadata": {},
     "output_type": "execute_result"
    }
   ],
   "source": [
    "# Write your own code\n",
    "lap_times = pd.read_csv(\"data_raw/lap_times.csv\")\n",
    "drivers = pd.read_csv(\"data_raw/drivers.csv\")\n",
    "\n",
    "lap_times.to_sql('lap_times',\n",
    "               con = connection,\n",
    "               if_exists='replace',\n",
    "               index=False)\n",
    "\n",
    "# Import \"races\"\n",
    "drivers.to_sql('drivers', \n",
    "             con = connection, \n",
    "             if_exists='replace',\n",
    "             index=False)"
   ]
  },
  {
   "attachments": {},
   "cell_type": "markdown",
   "metadata": {},
   "source": [
    "<font size = \"5\">\n",
    "\n",
    "(b) Subset and sort\n",
    "\n",
    "<font size = \"3\">\n",
    "\n",
    "- In this exercise use the function ```.read_sql()```\n",
    "- Use ```WHERE``` to get a subset of \"drivers\" with \n",
    "```nationality = 'American'```\n",
    "- Chain this with ```ORDER BY surname ASC``` to sort in <br>\n",
    "ascending order\n",
    "\n",
    "HINT: Use single quotes inside a string as in Lecture 20"
   ]
  },
  {
   "cell_type": "code",
   "execution_count": 17,
   "metadata": {},
   "outputs": [
    {
     "data": {
      "text/html": [
       "<div>\n",
       "<style scoped>\n",
       "    .dataframe tbody tr th:only-of-type {\n",
       "        vertical-align: middle;\n",
       "    }\n",
       "\n",
       "    .dataframe tbody tr th {\n",
       "        vertical-align: top;\n",
       "    }\n",
       "\n",
       "    .dataframe thead th {\n",
       "        text-align: right;\n",
       "    }\n",
       "</style>\n",
       "<table border=\"1\" class=\"dataframe\">\n",
       "  <thead>\n",
       "    <tr style=\"text-align: right;\">\n",
       "      <th></th>\n",
       "      <th>driverId</th>\n",
       "      <th>driverRef</th>\n",
       "      <th>number</th>\n",
       "      <th>code</th>\n",
       "      <th>forename</th>\n",
       "      <th>surname</th>\n",
       "      <th>dob</th>\n",
       "      <th>nationality</th>\n",
       "      <th>url</th>\n",
       "    </tr>\n",
       "  </thead>\n",
       "  <tbody>\n",
       "    <tr>\n",
       "      <th>0</th>\n",
       "      <td>796</td>\n",
       "      <td>ader</td>\n",
       "      <td>\\N</td>\n",
       "      <td>\\N</td>\n",
       "      <td>Walt</td>\n",
       "      <td>Ader</td>\n",
       "      <td>1913-12-15</td>\n",
       "      <td>American</td>\n",
       "      <td>http://en.wikipedia.org/wiki/Walt_Ader</td>\n",
       "    </tr>\n",
       "    <tr>\n",
       "      <th>1</th>\n",
       "      <td>615</td>\n",
       "      <td>agabashian</td>\n",
       "      <td>\\N</td>\n",
       "      <td>\\N</td>\n",
       "      <td>Fred</td>\n",
       "      <td>Agabashian</td>\n",
       "      <td>1913-08-21</td>\n",
       "      <td>American</td>\n",
       "      <td>http://en.wikipedia.org/wiki/Fred_Agabashian</td>\n",
       "    </tr>\n",
       "    <tr>\n",
       "      <th>2</th>\n",
       "      <td>517</td>\n",
       "      <td>amick</td>\n",
       "      <td>\\N</td>\n",
       "      <td>\\N</td>\n",
       "      <td>Red</td>\n",
       "      <td>Amick</td>\n",
       "      <td>1929-01-19</td>\n",
       "      <td>American</td>\n",
       "      <td>http://en.wikipedia.org/wiki/Red_Amick</td>\n",
       "    </tr>\n",
       "    <tr>\n",
       "      <th>3</th>\n",
       "      <td>591</td>\n",
       "      <td>george_amick</td>\n",
       "      <td>\\N</td>\n",
       "      <td>\\N</td>\n",
       "      <td>George</td>\n",
       "      <td>Amick</td>\n",
       "      <td>1924-10-24</td>\n",
       "      <td>American</td>\n",
       "      <td>http://en.wikipedia.org/wiki/George_Amick</td>\n",
       "    </tr>\n",
       "    <tr>\n",
       "      <th>4</th>\n",
       "      <td>121</td>\n",
       "      <td>andretti</td>\n",
       "      <td>\\N</td>\n",
       "      <td>\\N</td>\n",
       "      <td>Michael</td>\n",
       "      <td>Andretti</td>\n",
       "      <td>1962-10-05</td>\n",
       "      <td>American</td>\n",
       "      <td>http://en.wikipedia.org/wiki/Michael_Andretti</td>\n",
       "    </tr>\n",
       "    <tr>\n",
       "      <th>...</th>\n",
       "      <td>...</td>\n",
       "      <td>...</td>\n",
       "      <td>...</td>\n",
       "      <td>...</td>\n",
       "      <td>...</td>\n",
       "      <td>...</td>\n",
       "      <td>...</td>\n",
       "      <td>...</td>\n",
       "      <td>...</td>\n",
       "    </tr>\n",
       "    <tr>\n",
       "      <th>153</th>\n",
       "      <td>449</td>\n",
       "      <td>ward</td>\n",
       "      <td>\\N</td>\n",
       "      <td>\\N</td>\n",
       "      <td>Rodger</td>\n",
       "      <td>Ward</td>\n",
       "      <td>1921-01-10</td>\n",
       "      <td>American</td>\n",
       "      <td>http://en.wikipedia.org/wiki/Rodger_Ward</td>\n",
       "    </tr>\n",
       "    <tr>\n",
       "      <th>154</th>\n",
       "      <td>677</td>\n",
       "      <td>webb</td>\n",
       "      <td>\\N</td>\n",
       "      <td>\\N</td>\n",
       "      <td>Travis</td>\n",
       "      <td>Webb</td>\n",
       "      <td>1910-10-08</td>\n",
       "      <td>American</td>\n",
       "      <td>http://en.wikipedia.org/wiki/Travis_Webb</td>\n",
       "    </tr>\n",
       "    <tr>\n",
       "      <th>155</th>\n",
       "      <td>530</td>\n",
       "      <td>weiler</td>\n",
       "      <td>\\N</td>\n",
       "      <td>\\N</td>\n",
       "      <td>Wayne</td>\n",
       "      <td>Weiler</td>\n",
       "      <td>1934-12-09</td>\n",
       "      <td>American</td>\n",
       "      <td>http://en.wikipedia.org/wiki/Wayne_Weiler</td>\n",
       "    </tr>\n",
       "    <tr>\n",
       "      <th>156</th>\n",
       "      <td>563</td>\n",
       "      <td>weyant</td>\n",
       "      <td>\\N</td>\n",
       "      <td>\\N</td>\n",
       "      <td>Chuck</td>\n",
       "      <td>Weyant</td>\n",
       "      <td>1923-04-03</td>\n",
       "      <td>American</td>\n",
       "      <td>http://en.wikipedia.org/wiki/Chuck_Weyant</td>\n",
       "    </tr>\n",
       "    <tr>\n",
       "      <th>157</th>\n",
       "      <td>539</td>\n",
       "      <td>dempsey_wilson</td>\n",
       "      <td>\\N</td>\n",
       "      <td>\\N</td>\n",
       "      <td>Dempsey</td>\n",
       "      <td>Wilson</td>\n",
       "      <td>1927-03-11</td>\n",
       "      <td>American</td>\n",
       "      <td>http://en.wikipedia.org/wiki/Dempsey_Wilson</td>\n",
       "    </tr>\n",
       "  </tbody>\n",
       "</table>\n",
       "<p>158 rows × 9 columns</p>\n",
       "</div>"
      ],
      "text/plain": [
       "     driverId       driverRef number code forename     surname         dob  \\\n",
       "0         796            ader     \\N   \\N     Walt        Ader  1913-12-15   \n",
       "1         615      agabashian     \\N   \\N     Fred  Agabashian  1913-08-21   \n",
       "2         517           amick     \\N   \\N      Red       Amick  1929-01-19   \n",
       "3         591    george_amick     \\N   \\N   George       Amick  1924-10-24   \n",
       "4         121        andretti     \\N   \\N  Michael    Andretti  1962-10-05   \n",
       "..        ...             ...    ...  ...      ...         ...         ...   \n",
       "153       449            ward     \\N   \\N   Rodger        Ward  1921-01-10   \n",
       "154       677            webb     \\N   \\N   Travis        Webb  1910-10-08   \n",
       "155       530          weiler     \\N   \\N    Wayne      Weiler  1934-12-09   \n",
       "156       563          weyant     \\N   \\N    Chuck      Weyant  1923-04-03   \n",
       "157       539  dempsey_wilson     \\N   \\N  Dempsey      Wilson  1927-03-11   \n",
       "\n",
       "    nationality                                            url  \n",
       "0      American         http://en.wikipedia.org/wiki/Walt_Ader  \n",
       "1      American   http://en.wikipedia.org/wiki/Fred_Agabashian  \n",
       "2      American         http://en.wikipedia.org/wiki/Red_Amick  \n",
       "3      American      http://en.wikipedia.org/wiki/George_Amick  \n",
       "4      American  http://en.wikipedia.org/wiki/Michael_Andretti  \n",
       "..          ...                                            ...  \n",
       "153    American       http://en.wikipedia.org/wiki/Rodger_Ward  \n",
       "154    American       http://en.wikipedia.org/wiki/Travis_Webb  \n",
       "155    American      http://en.wikipedia.org/wiki/Wayne_Weiler  \n",
       "156    American      http://en.wikipedia.org/wiki/Chuck_Weyant  \n",
       "157    American    http://en.wikipedia.org/wiki/Dempsey_Wilson  \n",
       "\n",
       "[158 rows x 9 columns]"
      ]
     },
     "execution_count": 17,
     "metadata": {},
     "output_type": "execute_result"
    }
   ],
   "source": [
    "# Write your own code\n",
    "\n",
    "pd.read_sql(text(\"SELECT * \\\n",
    "                 FROM drivers \\\n",
    "                 WHERE nationality = 'American'\\\n",
    "                 ORDER BY surname ASC;\"), connection)\n"
   ]
  },
  {
   "attachments": {},
   "cell_type": "markdown",
   "metadata": {},
   "source": [
    "<font size = \"5\">\n",
    "\n",
    "(c) Count unique values\n",
    "\n",
    "<font size = \"3\">\n",
    "\n",
    "- In this exercise use the function ```.read_sql()```\n",
    "- Count the number of unique \"driverId\" using ```COUNT(DISTINCT ...)``` <br>\n",
    "from the dataset \"drivers\"\n",
    "\n",
    "HINT: Include \\\\\"driverId\\\\\" in double quotations with an <br>\n",
    "escape character (see Lecture 20 for details) since <br>\n",
    "it has a mix of upper and lower case letters"
   ]
  },
  {
   "cell_type": "code",
   "execution_count": 18,
   "metadata": {},
   "outputs": [
    {
     "data": {
      "text/html": [
       "<div>\n",
       "<style scoped>\n",
       "    .dataframe tbody tr th:only-of-type {\n",
       "        vertical-align: middle;\n",
       "    }\n",
       "\n",
       "    .dataframe tbody tr th {\n",
       "        vertical-align: top;\n",
       "    }\n",
       "\n",
       "    .dataframe thead th {\n",
       "        text-align: right;\n",
       "    }\n",
       "</style>\n",
       "<table border=\"1\" class=\"dataframe\">\n",
       "  <thead>\n",
       "    <tr style=\"text-align: right;\">\n",
       "      <th></th>\n",
       "      <th>unique_driver_id</th>\n",
       "    </tr>\n",
       "  </thead>\n",
       "  <tbody>\n",
       "    <tr>\n",
       "      <th>0</th>\n",
       "      <td>857</td>\n",
       "    </tr>\n",
       "  </tbody>\n",
       "</table>\n",
       "</div>"
      ],
      "text/plain": [
       "   unique_driver_id\n",
       "0               857"
      ]
     },
     "execution_count": 18,
     "metadata": {},
     "output_type": "execute_result"
    }
   ],
   "source": [
    "# Write your own code\n",
    "pd.read_sql(text(\"SELECT COUNT(DISTINCT \\\"driverId\\\") AS unique_driver_id\\\n",
    "                 From drivers;\"), connection)"
   ]
  },
  {
   "attachments": {},
   "cell_type": "markdown",
   "metadata": {},
   "source": [
    "<font size = \"5\">\n",
    "\n",
    "(d) Groupby + Aggregate + Sort\n",
    "\n",
    "<font size = \"3\">\n",
    "\n",
    "- In this exercise use the function ```.read_sql()```\n",
    "- Obtain the average of \"milliseconds\" by \"driverId\" using ```GROUP BY```\n",
    "- User ```ORDER BY ``` to sort on the average of milliseconds\n",
    "\n",
    "HINT: Include \\\\\"driverId\\\\\" in double quotations with an <br>\n",
    "escape character (see Lecture 20 for details) since <br>\n",
    "it has a mix of upper and lower case letters"
   ]
  },
  {
   "cell_type": "code",
   "execution_count": 6,
   "metadata": {},
   "outputs": [],
   "source": [
    "# Write your own code\n"
   ]
  },
  {
   "attachments": {},
   "cell_type": "markdown",
   "metadata": {},
   "source": [
    "<font size = \"5\">\n",
    "\n",
    "(e) Merge two tables\n",
    "\n",
    "<font size = \"3\">\n",
    "\n",
    "- In this exercise use the function ```.read_sql()```\n",
    "- Merge the tables \"lap_times\" (primary) and \"drivers\" (secondary) <br>\n",
    "on \"driverId\" using ```LEFT JOIN``` on \"driverId\".\n",
    "\n",
    "HINT: Include \\\\\"driverId\\\\\" in double quotations with an <br>\n",
    "escape character (see Lecture 20 for details) since <br>\n",
    "it has a mix of upper and lower case letters"
   ]
  },
  {
   "cell_type": "code",
   "execution_count": 7,
   "metadata": {},
   "outputs": [],
   "source": [
    "# Write your own code\n",
    "\n",
    "\n"
   ]
  }
 ],
 "metadata": {
  "kernelspec": {
   "display_name": "base",
   "language": "python",
   "name": "python3"
  },
  "language_info": {
   "codemirror_mode": {
    "name": "ipython",
    "version": 3
   },
   "file_extension": ".py",
   "mimetype": "text/x-python",
   "name": "python",
   "nbconvert_exporter": "python",
   "pygments_lexer": "ipython3",
   "version": "3.11.6"
  },
  "orig_nbformat": 4,
  "vscode": {
   "interpreter": {
    "hash": "45fc1f684f6f416f40889115beff3ddf69879b64cf4bfee48cb72a61e9d15d1a"
   }
  }
 },
 "nbformat": 4,
 "nbformat_minor": 2
}
